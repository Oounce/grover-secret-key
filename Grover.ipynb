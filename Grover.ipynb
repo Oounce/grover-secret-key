{
  "nbformat": 4,
  "nbformat_minor": 0,
  "metadata": {
    "colab": {
      "provenance": []
    },
    "kernelspec": {
      "name": "python3",
      "display_name": "Python 3"
    },
    "language_info": {
      "name": "python"
    }
  },
  "cells": [
    {
      "cell_type": "markdown",
      "source": [
        "# Generation of message and key"
      ],
      "metadata": {
        "id": "oPMCULua1BLb"
      }
    },
    {
      "cell_type": "code",
      "source": [
        "from random import randint\n",
        "\n",
        "def generate_random():\n",
        "    a = []\n",
        "    for i in range(4):\n",
        "        a.append(randint(0, 1))\n",
        "    return a;"
      ],
      "metadata": {
        "id": "sKRWYds91MMh"
      },
      "execution_count": 1,
      "outputs": []
    },
    {
      "cell_type": "code",
      "source": [
        "message = generate_random()\n",
        "key = generate_random()\n",
        "encrypted_message = []\n",
        "for i in range(4):\n",
        "    encrypted_message.append(message[i] ^ key[i])\n",
        "decrypted_message = []\n",
        "for i in range(4):\n",
        "    decrypted_message.append(encrypted_message[i] ^ key[i])\n",
        "print(\"Original message\", \"\".join(map(str, message)))\n",
        "print(\"Secret key:\", \"\".join(map(str, key)))\n",
        "print(\"Encrypted message:\", \"\".join(map(str, encrypted_message)))\n",
        "print(\"Decrypted message:\", \"\".join(map(str, decrypted_message)))"
      ],
      "metadata": {
        "colab": {
          "base_uri": "https://localhost:8080/"
        },
        "id": "d2nUNQue4hC1",
        "outputId": "f8079d70-de43-4d03-d2f4-82d07f0f9bc6"
      },
      "execution_count": 2,
      "outputs": [
        {
          "output_type": "stream",
          "name": "stdout",
          "text": [
            "Original message 0001\n",
            "Secret key: 0011\n",
            "Encrypted message: 0010\n",
            "Decrypted message: 0001\n"
          ]
        }
      ]
    },
    {
      "cell_type": "markdown",
      "source": [
        "# Grover's algorithm"
      ],
      "metadata": {
        "id": "8Eh5seQNx8l2"
      }
    },
    {
      "cell_type": "code",
      "source": [
        "from IPython.display import clear_output"
      ],
      "metadata": {
        "id": "ec4LA_jV9mxO"
      },
      "execution_count": 3,
      "outputs": []
    },
    {
      "cell_type": "code",
      "source": [
        "!pip install qiskit\n",
        "!pip install qiskit-aer\n",
        "clear_output()"
      ],
      "metadata": {
        "id": "cH0t7vi69RUO"
      },
      "execution_count": 4,
      "outputs": []
    },
    {
      "cell_type": "markdown",
      "source": [
        "We know the original and encrypted message, as well as the algorithm for receiving it, so we need to find the key\n",
        "\n",
        "**Notation: (what do qubits encode)** \\\n",
        "$k_0, ..., k_3$ - bits of the secret key (target solution) \\\n",
        "$m_0, ..., m_3$ - bits of the original message \\\n",
        "$em_0, ..., em_3$ - bits of the encrypted message \\\n",
        "$out_0$ - qubit used for phase conversion in Grover's algorithm"
      ],
      "metadata": {
        "id": "UYSa-g1G-awt"
      }
    },
    {
      "cell_type": "code",
      "source": [
        "from qiskit import QuantumCircuit, ClassicalRegister, QuantumRegister\n",
        "\n",
        "key_qubits = QuantumRegister(4, name='k')\n",
        "message_qubits = QuantumRegister(4, name='m')\n",
        "e_message_qubits = QuantumRegister(4, name='em')\n",
        "output_qubit = QuantumRegister(1, name='out')\n",
        "cbits = ClassicalRegister(4, name='cbits')\n",
        "qc = QuantumCircuit(key_qubits, message_qubits, e_message_qubits, output_qubit, cbits)"
      ],
      "metadata": {
        "id": "EFXHshgC8pTB"
      },
      "execution_count": 5,
      "outputs": []
    },
    {
      "cell_type": "markdown",
      "source": [
        "Let's initialize the qubits $k_i$ of our future solution, qubit $out_0$ and qubits $m_i$ of the origin message"
      ],
      "metadata": {
        "id": "Xbd5NgGSHxHo"
      }
    },
    {
      "cell_type": "code",
      "source": [
        "# initialization of solution qubits\n",
        "def initialize(qc, qubits):\n",
        "    for q in qubits:\n",
        "        qc.h(q)"
      ],
      "metadata": {
        "id": "hiDsnlepGuW6"
      },
      "execution_count": 6,
      "outputs": []
    },
    {
      "cell_type": "code",
      "source": [
        "initialize(qc, key_qubits)\n",
        "\n",
        "# converting the out_0 qubit to the \"-\" state\n",
        "qc.x(output_qubit)\n",
        "qc.h(output_qubit)\n",
        "\n",
        "# initialization of message qubits\n",
        "for i,m in enumerate(message_qubits):\n",
        "    if (message[i] == 1):\n",
        "        qc.x(m)\n",
        "\n",
        "qc.barrier()\n",
        "qc.draw()"
      ],
      "metadata": {
        "colab": {
          "base_uri": "https://localhost:8080/",
          "height": 463
        },
        "id": "k9jYUyfYG5I9",
        "outputId": "54b02108-1520-423d-b201-9601e7cb0abe"
      },
      "execution_count": 7,
      "outputs": [
        {
          "output_type": "execute_result",
          "data": {
            "text/plain": [
              "         ┌───┐      ░ \n",
              "    k_0: ┤ H ├──────░─\n",
              "         ├───┤      ░ \n",
              "    k_1: ┤ H ├──────░─\n",
              "         ├───┤      ░ \n",
              "    k_2: ┤ H ├──────░─\n",
              "         ├───┤      ░ \n",
              "    k_3: ┤ H ├──────░─\n",
              "         └───┘      ░ \n",
              "    m_0: ───────────░─\n",
              "                    ░ \n",
              "    m_1: ───────────░─\n",
              "                    ░ \n",
              "    m_2: ───────────░─\n",
              "         ┌───┐      ░ \n",
              "    m_3: ┤ X ├──────░─\n",
              "         └───┘      ░ \n",
              "   em_0: ───────────░─\n",
              "                    ░ \n",
              "   em_1: ───────────░─\n",
              "                    ░ \n",
              "   em_2: ───────────░─\n",
              "                    ░ \n",
              "   em_3: ───────────░─\n",
              "         ┌───┐┌───┐ ░ \n",
              "    out: ┤ X ├┤ H ├─░─\n",
              "         └───┘└───┘ ░ \n",
              "cbits: 4/═════════════\n",
              "                      "
            ],
            "text/html": [
              "<pre style=\"word-wrap: normal;white-space: pre;background: #fff0;line-height: 1.1;font-family: &quot;Courier New&quot;,Courier,monospace\">         ┌───┐      ░ \n",
              "    k_0: ┤ H ├──────░─\n",
              "         ├───┤      ░ \n",
              "    k_1: ┤ H ├──────░─\n",
              "         ├───┤      ░ \n",
              "    k_2: ┤ H ├──────░─\n",
              "         ├───┤      ░ \n",
              "    k_3: ┤ H ├──────░─\n",
              "         └───┘      ░ \n",
              "    m_0: ───────────░─\n",
              "                    ░ \n",
              "    m_1: ───────────░─\n",
              "                    ░ \n",
              "    m_2: ───────────░─\n",
              "         ┌───┐      ░ \n",
              "    m_3: ┤ X ├──────░─\n",
              "         └───┘      ░ \n",
              "   em_0: ───────────░─\n",
              "                    ░ \n",
              "   em_1: ───────────░─\n",
              "                    ░ \n",
              "   em_2: ───────────░─\n",
              "                    ░ \n",
              "   em_3: ───────────░─\n",
              "         ┌───┐┌───┐ ░ \n",
              "    out: ┤ X ├┤ H ├─░─\n",
              "         └───┘└───┘ ░ \n",
              "cbits: 4/═════════════\n",
              "                      </pre>"
            ]
          },
          "metadata": {},
          "execution_count": 7
        }
      ]
    },
    {
      "cell_type": "markdown",
      "source": [
        "We need an oracle that will change the sign only of the solution we need. \\\n",
        "With several applications of CNOT, it is possible to implement the XOR operation between k and m qubits ($m_i \\oplus k_i=em_i$), and the necessary phase shift using the encrypted message we know, CCCCNOT and the out qubit"
      ],
      "metadata": {
        "id": "p3DAad27AQ2B"
      }
    },
    {
      "cell_type": "code",
      "source": [
        "# o and o+\n",
        "def o_and_o_adj(qc, k_qubits, m_qubits, em_qubits):\n",
        "    # xor - 1 if m_i and k_i are different,\n",
        "    # if they match (X is either not applied or applied twice - X*X=I)\n",
        "    for i in range(4):\n",
        "        qc.cx(m_qubits[i], em_qubits[i])\n",
        "        qc.cx(k_qubits[i], em_qubits[i])"
      ],
      "metadata": {
        "id": "FjMdNEu3jXc9"
      },
      "execution_count": 8,
      "outputs": []
    },
    {
      "cell_type": "code",
      "source": [
        "# we know the encrypted message, in those i where 0 we apply X,\n",
        "# so that the phase changes when applying CCCCNOT only for the correct answer\n",
        "def real_ans(e_message_qubits):\n",
        "    for i,em in enumerate(e_message_qubits):\n",
        "        if (encrypted_message[i] == 0):\n",
        "            qc.x(em)"
      ],
      "metadata": {
        "id": "cN0YB5yHl9Ld"
      },
      "execution_count": 9,
      "outputs": []
    },
    {
      "cell_type": "code",
      "source": [
        "def oracle(qc, k_qubits, m_qubits, em_qubits, out):\n",
        "    o_and_o_adj(qc, key_qubits, message_qubits, e_message_qubits) # o\n",
        "\n",
        "    # knowing the encrypted message\n",
        "    real_ans(e_message_qubits)\n",
        "    qc.mcx(e_message_qubits, output_qubit)\n",
        "    real_ans(e_message_qubits) # +\n",
        "\n",
        "    o_and_o_adj(qc, key_qubits, message_qubits, e_message_qubits) # o+"
      ],
      "metadata": {
        "id": "UISHVJpDyGAn"
      },
      "execution_count": 10,
      "outputs": []
    },
    {
      "cell_type": "code",
      "source": [
        "oracle(qc, key_qubits, message_qubits, e_message_qubits, output_qubit)\n",
        "qc.barrier()\n",
        "qc.draw()"
      ],
      "metadata": {
        "colab": {
          "base_uri": "https://localhost:8080/",
          "height": 910
        },
        "id": "rdetp3HRlxu0",
        "outputId": "e087ff18-e8fe-41c3-c961-148cac1db8f4"
      },
      "execution_count": 11,
      "outputs": [
        {
          "output_type": "execute_result",
          "data": {
            "text/plain": [
              "         ┌───┐      ░                                                        »\n",
              "    k_0: ┤ H ├──────░───────────────────────■────────────────────────────────»\n",
              "         ├───┤      ░                       │                                »\n",
              "    k_1: ┤ H ├──────░───────────────────────┼────■───────────────────────────»\n",
              "         ├───┤      ░                       │    │                           »\n",
              "    k_2: ┤ H ├──────░───────────────────────┼────┼────■──────────────────────»\n",
              "         ├───┤      ░                       │    │    │                      »\n",
              "    k_3: ┤ H ├──────░───────────────────────┼────┼────┼────■─────────────────»\n",
              "         └───┘      ░                       │    │    │    │                 »\n",
              "    m_0: ───────────░───■───────────────────┼────┼────┼────┼─────────────────»\n",
              "                    ░   │                   │    │    │    │                 »\n",
              "    m_1: ───────────░───┼────■──────────────┼────┼────┼────┼─────────────────»\n",
              "                    ░   │    │              │    │    │    │                 »\n",
              "    m_2: ───────────░───┼────┼────■─────────┼────┼────┼────┼─────────────────»\n",
              "         ┌───┐      ░   │    │    │         │    │    │    │                 »\n",
              "    m_3: ┤ X ├──────░───┼────┼────┼────■────┼────┼────┼────┼─────────────────»\n",
              "         └───┘      ░ ┌─┴─┐  │    │    │  ┌─┴─┐  │    │    │  ┌───┐     ┌───┐»\n",
              "   em_0: ───────────░─┤ X ├──┼────┼────┼──┤ X ├──┼────┼────┼──┤ X ├──■──┤ X ├»\n",
              "                    ░ └───┘┌─┴─┐  │    │  └───┘┌─┴─┐  │    │  ├───┤  │  ├───┤»\n",
              "   em_1: ───────────░──────┤ X ├──┼────┼───────┤ X ├──┼────┼──┤ X ├──■──┤ X ├»\n",
              "                    ░      └───┘┌─┴─┐  │       └───┘┌─┴─┐  │  └───┘  │  └───┘»\n",
              "   em_2: ───────────░───────────┤ X ├──┼────────────┤ X ├──┼─────────■───────»\n",
              "                    ░           └───┘┌─┴─┐          └───┘┌─┴─┐┌───┐  │  ┌───┐»\n",
              "   em_3: ───────────░────────────────┤ X ├───────────────┤ X ├┤ X ├──■──┤ X ├»\n",
              "         ┌───┐┌───┐ ░                └───┘               └───┘└───┘┌─┴─┐└───┘»\n",
              "    out: ┤ X ├┤ H ├─░──────────────────────────────────────────────┤ X ├─────»\n",
              "         └───┘└───┘ ░                                              └───┘     »\n",
              "cbits: 4/════════════════════════════════════════════════════════════════════»\n",
              "                                                                             »\n",
              "«                                                  ░ \n",
              "«    k_0: ───────────────────────────■─────────────░─\n",
              "«                                    │             ░ \n",
              "«    k_1: ───────────────────────────┼────■────────░─\n",
              "«                                    │    │        ░ \n",
              "«    k_2: ─────────────────■─────────┼────┼────────░─\n",
              "«                          │         │    │        ░ \n",
              "«    k_3: ─────────────────┼─────────┼────┼────■───░─\n",
              "«                          │         │    │    │   ░ \n",
              "«    m_0: ───────■─────────┼─────────┼────┼────┼───░─\n",
              "«                │         │         │    │    │   ░ \n",
              "«    m_1: ───────┼────■────┼─────────┼────┼────┼───░─\n",
              "«                │    │    │         │    │    │   ░ \n",
              "«    m_2: ──■────┼────┼────┼─────────┼────┼────┼───░─\n",
              "«           │    │    │    │         │    │    │   ░ \n",
              "«    m_3: ──┼────┼────┼────┼────■────┼────┼────┼───░─\n",
              "«           │  ┌─┴─┐  │    │    │  ┌─┴─┐  │    │   ░ \n",
              "«   em_0: ──┼──┤ X ├──┼────┼────┼──┤ X ├──┼────┼───░─\n",
              "«           │  └───┘┌─┴─┐  │    │  └───┘┌─┴─┐  │   ░ \n",
              "«   em_1: ──┼───────┤ X ├──┼────┼───────┤ X ├──┼───░─\n",
              "«         ┌─┴─┐     └───┘┌─┴─┐  │       └───┘  │   ░ \n",
              "«   em_2: ┤ X ├──────────┤ X ├──┼──────────────┼───░─\n",
              "«         └───┘          └───┘┌─┴─┐          ┌─┴─┐ ░ \n",
              "«   em_3: ────────────────────┤ X ├──────────┤ X ├─░─\n",
              "«                             └───┘          └───┘ ░ \n",
              "«    out: ─────────────────────────────────────────░─\n",
              "«                                                  ░ \n",
              "«cbits: 4/═══════════════════════════════════════════\n",
              "«                                                    "
            ],
            "text/html": [
              "<pre style=\"word-wrap: normal;white-space: pre;background: #fff0;line-height: 1.1;font-family: &quot;Courier New&quot;,Courier,monospace\">         ┌───┐      ░                                                        »\n",
              "    k_0: ┤ H ├──────░───────────────────────■────────────────────────────────»\n",
              "         ├───┤      ░                       │                                »\n",
              "    k_1: ┤ H ├──────░───────────────────────┼────■───────────────────────────»\n",
              "         ├───┤      ░                       │    │                           »\n",
              "    k_2: ┤ H ├──────░───────────────────────┼────┼────■──────────────────────»\n",
              "         ├───┤      ░                       │    │    │                      »\n",
              "    k_3: ┤ H ├──────░───────────────────────┼────┼────┼────■─────────────────»\n",
              "         └───┘      ░                       │    │    │    │                 »\n",
              "    m_0: ───────────░───■───────────────────┼────┼────┼────┼─────────────────»\n",
              "                    ░   │                   │    │    │    │                 »\n",
              "    m_1: ───────────░───┼────■──────────────┼────┼────┼────┼─────────────────»\n",
              "                    ░   │    │              │    │    │    │                 »\n",
              "    m_2: ───────────░───┼────┼────■─────────┼────┼────┼────┼─────────────────»\n",
              "         ┌───┐      ░   │    │    │         │    │    │    │                 »\n",
              "    m_3: ┤ X ├──────░───┼────┼────┼────■────┼────┼────┼────┼─────────────────»\n",
              "         └───┘      ░ ┌─┴─┐  │    │    │  ┌─┴─┐  │    │    │  ┌───┐     ┌───┐»\n",
              "   em_0: ───────────░─┤ X ├──┼────┼────┼──┤ X ├──┼────┼────┼──┤ X ├──■──┤ X ├»\n",
              "                    ░ └───┘┌─┴─┐  │    │  └───┘┌─┴─┐  │    │  ├───┤  │  ├───┤»\n",
              "   em_1: ───────────░──────┤ X ├──┼────┼───────┤ X ├──┼────┼──┤ X ├──■──┤ X ├»\n",
              "                    ░      └───┘┌─┴─┐  │       └───┘┌─┴─┐  │  └───┘  │  └───┘»\n",
              "   em_2: ───────────░───────────┤ X ├──┼────────────┤ X ├──┼─────────■───────»\n",
              "                    ░           └───┘┌─┴─┐          └───┘┌─┴─┐┌───┐  │  ┌───┐»\n",
              "   em_3: ───────────░────────────────┤ X ├───────────────┤ X ├┤ X ├──■──┤ X ├»\n",
              "         ┌───┐┌───┐ ░                └───┘               └───┘└───┘┌─┴─┐└───┘»\n",
              "    out: ┤ X ├┤ H ├─░──────────────────────────────────────────────┤ X ├─────»\n",
              "         └───┘└───┘ ░                                              └───┘     »\n",
              "cbits: 4/════════════════════════════════════════════════════════════════════»\n",
              "                                                                             »\n",
              "«                                                  ░ \n",
              "«    k_0: ───────────────────────────■─────────────░─\n",
              "«                                    │             ░ \n",
              "«    k_1: ───────────────────────────┼────■────────░─\n",
              "«                                    │    │        ░ \n",
              "«    k_2: ─────────────────■─────────┼────┼────────░─\n",
              "«                          │         │    │        ░ \n",
              "«    k_3: ─────────────────┼─────────┼────┼────■───░─\n",
              "«                          │         │    │    │   ░ \n",
              "«    m_0: ───────■─────────┼─────────┼────┼────┼───░─\n",
              "«                │         │         │    │    │   ░ \n",
              "«    m_1: ───────┼────■────┼─────────┼────┼────┼───░─\n",
              "«                │    │    │         │    │    │   ░ \n",
              "«    m_2: ──■────┼────┼────┼─────────┼────┼────┼───░─\n",
              "«           │    │    │    │         │    │    │   ░ \n",
              "«    m_3: ──┼────┼────┼────┼────■────┼────┼────┼───░─\n",
              "«           │  ┌─┴─┐  │    │    │  ┌─┴─┐  │    │   ░ \n",
              "«   em_0: ──┼──┤ X ├──┼────┼────┼──┤ X ├──┼────┼───░─\n",
              "«           │  └───┘┌─┴─┐  │    │  └───┘┌─┴─┐  │   ░ \n",
              "«   em_1: ──┼───────┤ X ├──┼────┼───────┤ X ├──┼───░─\n",
              "«         ┌─┴─┐     └───┘┌─┴─┐  │       └───┘  │   ░ \n",
              "«   em_2: ┤ X ├──────────┤ X ├──┼──────────────┼───░─\n",
              "«         └───┘          └───┘┌─┴─┐          ┌─┴─┐ ░ \n",
              "«   em_3: ────────────────────┤ X ├──────────┤ X ├─░─\n",
              "«                             └───┘          └───┘ ░ \n",
              "«    out: ─────────────────────────────────────────░─\n",
              "«                                                  ░ \n",
              "«cbits: 4/═══════════════════════════════════════════\n",
              "«                                                    </pre>"
            ]
          },
          "metadata": {},
          "execution_count": 11
        }
      ]
    },
    {
      "cell_type": "markdown",
      "source": [
        "Aplification the amplitude of a labeled state (target solution)"
      ],
      "metadata": {
        "id": "kzn_jLBAPymN"
      }
    },
    {
      "cell_type": "code",
      "source": [
        "def diffuser(nqubits):\n",
        "    qc = QuantumCircuit(nqubits)\n",
        "    # Apply transformation |s> -> |00..0> (H-gates)\n",
        "    for qubit in range(nqubits):\n",
        "        qc.h(qubit)\n",
        "    # Apply transformation |00..0> -> |11..1> (X-gates)\n",
        "    for qubit in range(nqubits):\n",
        "        qc.x(qubit)\n",
        "    # Do multi-controlled-Z gate\n",
        "    qc.h(nqubits-1)\n",
        "    qc.mcx(list(range(nqubits-1)), nqubits-1)  # multi-controlled-toffoli\n",
        "    qc.h(nqubits-1)\n",
        "    # Apply transformation |11..1> -> |00..0>\n",
        "    for qubit in range(nqubits):\n",
        "        qc.x(qubit)\n",
        "    # Apply transformation |00..0> -> |s>\n",
        "    for qubit in range(nqubits):\n",
        "        qc.h(qubit)\n",
        "    # We will return the diffuser as a gate\n",
        "    U_s = qc.to_gate()\n",
        "    U_s.name = \"Ampl\"\n",
        "    return U_s"
      ],
      "metadata": {
        "id": "LIS-eeg_PwtL"
      },
      "execution_count": 12,
      "outputs": []
    },
    {
      "cell_type": "code",
      "source": [
        "qc.append(diffuser(4), key_qubits)\n",
        "qc.draw()"
      ],
      "metadata": {
        "colab": {
          "base_uri": "https://localhost:8080/",
          "height": 910
        },
        "id": "ZRRqhEDqp8xx",
        "outputId": "c5c1cfd3-662b-4f1e-8483-0ef6d9fcd30d"
      },
      "execution_count": 13,
      "outputs": [
        {
          "output_type": "execute_result",
          "data": {
            "text/plain": [
              "         ┌───┐      ░                                                        »\n",
              "    k_0: ┤ H ├──────░───────────────────────■────────────────────────────────»\n",
              "         ├───┤      ░                       │                                »\n",
              "    k_1: ┤ H ├──────░───────────────────────┼────■───────────────────────────»\n",
              "         ├───┤      ░                       │    │                           »\n",
              "    k_2: ┤ H ├──────░───────────────────────┼────┼────■──────────────────────»\n",
              "         ├───┤      ░                       │    │    │                      »\n",
              "    k_3: ┤ H ├──────░───────────────────────┼────┼────┼────■─────────────────»\n",
              "         └───┘      ░                       │    │    │    │                 »\n",
              "    m_0: ───────────░───■───────────────────┼────┼────┼────┼─────────────────»\n",
              "                    ░   │                   │    │    │    │                 »\n",
              "    m_1: ───────────░───┼────■──────────────┼────┼────┼────┼─────────────────»\n",
              "                    ░   │    │              │    │    │    │                 »\n",
              "    m_2: ───────────░───┼────┼────■─────────┼────┼────┼────┼─────────────────»\n",
              "         ┌───┐      ░   │    │    │         │    │    │    │                 »\n",
              "    m_3: ┤ X ├──────░───┼────┼────┼────■────┼────┼────┼────┼─────────────────»\n",
              "         └───┘      ░ ┌─┴─┐  │    │    │  ┌─┴─┐  │    │    │  ┌───┐     ┌───┐»\n",
              "   em_0: ───────────░─┤ X ├──┼────┼────┼──┤ X ├──┼────┼────┼──┤ X ├──■──┤ X ├»\n",
              "                    ░ └───┘┌─┴─┐  │    │  └───┘┌─┴─┐  │    │  ├───┤  │  ├───┤»\n",
              "   em_1: ───────────░──────┤ X ├──┼────┼───────┤ X ├──┼────┼──┤ X ├──■──┤ X ├»\n",
              "                    ░      └───┘┌─┴─┐  │       └───┘┌─┴─┐  │  └───┘  │  └───┘»\n",
              "   em_2: ───────────░───────────┤ X ├──┼────────────┤ X ├──┼─────────■───────»\n",
              "                    ░           └───┘┌─┴─┐          └───┘┌─┴─┐┌───┐  │  ┌───┐»\n",
              "   em_3: ───────────░────────────────┤ X ├───────────────┤ X ├┤ X ├──■──┤ X ├»\n",
              "         ┌───┐┌───┐ ░                └───┘               └───┘└───┘┌─┴─┐└───┘»\n",
              "    out: ┤ X ├┤ H ├─░──────────────────────────────────────────────┤ X ├─────»\n",
              "         └───┘└───┘ ░                                              └───┘     »\n",
              "cbits: 4/════════════════════════════════════════════════════════════════════»\n",
              "                                                                             »\n",
              "«                                                  ░ ┌───────┐\n",
              "«    k_0: ───────────────────────────■─────────────░─┤0      ├\n",
              "«                                    │             ░ │       │\n",
              "«    k_1: ───────────────────────────┼────■────────░─┤1      ├\n",
              "«                                    │    │        ░ │  Ampl │\n",
              "«    k_2: ─────────────────■─────────┼────┼────────░─┤2      ├\n",
              "«                          │         │    │        ░ │       │\n",
              "«    k_3: ─────────────────┼─────────┼────┼────■───░─┤3      ├\n",
              "«                          │         │    │    │   ░ └───────┘\n",
              "«    m_0: ───────■─────────┼─────────┼────┼────┼───░──────────\n",
              "«                │         │         │    │    │   ░          \n",
              "«    m_1: ───────┼────■────┼─────────┼────┼────┼───░──────────\n",
              "«                │    │    │         │    │    │   ░          \n",
              "«    m_2: ──■────┼────┼────┼─────────┼────┼────┼───░──────────\n",
              "«           │    │    │    │         │    │    │   ░          \n",
              "«    m_3: ──┼────┼────┼────┼────■────┼────┼────┼───░──────────\n",
              "«           │  ┌─┴─┐  │    │    │  ┌─┴─┐  │    │   ░          \n",
              "«   em_0: ──┼──┤ X ├──┼────┼────┼──┤ X ├──┼────┼───░──────────\n",
              "«           │  └───┘┌─┴─┐  │    │  └───┘┌─┴─┐  │   ░          \n",
              "«   em_1: ──┼───────┤ X ├──┼────┼───────┤ X ├──┼───░──────────\n",
              "«         ┌─┴─┐     └───┘┌─┴─┐  │       └───┘  │   ░          \n",
              "«   em_2: ┤ X ├──────────┤ X ├──┼──────────────┼───░──────────\n",
              "«         └───┘          └───┘┌─┴─┐          ┌─┴─┐ ░          \n",
              "«   em_3: ────────────────────┤ X ├──────────┤ X ├─░──────────\n",
              "«                             └───┘          └───┘ ░          \n",
              "«    out: ─────────────────────────────────────────░──────────\n",
              "«                                                  ░          \n",
              "«cbits: 4/════════════════════════════════════════════════════\n",
              "«                                                             "
            ],
            "text/html": [
              "<pre style=\"word-wrap: normal;white-space: pre;background: #fff0;line-height: 1.1;font-family: &quot;Courier New&quot;,Courier,monospace\">         ┌───┐      ░                                                        »\n",
              "    k_0: ┤ H ├──────░───────────────────────■────────────────────────────────»\n",
              "         ├───┤      ░                       │                                »\n",
              "    k_1: ┤ H ├──────░───────────────────────┼────■───────────────────────────»\n",
              "         ├───┤      ░                       │    │                           »\n",
              "    k_2: ┤ H ├──────░───────────────────────┼────┼────■──────────────────────»\n",
              "         ├───┤      ░                       │    │    │                      »\n",
              "    k_3: ┤ H ├──────░───────────────────────┼────┼────┼────■─────────────────»\n",
              "         └───┘      ░                       │    │    │    │                 »\n",
              "    m_0: ───────────░───■───────────────────┼────┼────┼────┼─────────────────»\n",
              "                    ░   │                   │    │    │    │                 »\n",
              "    m_1: ───────────░───┼────■──────────────┼────┼────┼────┼─────────────────»\n",
              "                    ░   │    │              │    │    │    │                 »\n",
              "    m_2: ───────────░───┼────┼────■─────────┼────┼────┼────┼─────────────────»\n",
              "         ┌───┐      ░   │    │    │         │    │    │    │                 »\n",
              "    m_3: ┤ X ├──────░───┼────┼────┼────■────┼────┼────┼────┼─────────────────»\n",
              "         └───┘      ░ ┌─┴─┐  │    │    │  ┌─┴─┐  │    │    │  ┌───┐     ┌───┐»\n",
              "   em_0: ───────────░─┤ X ├──┼────┼────┼──┤ X ├──┼────┼────┼──┤ X ├──■──┤ X ├»\n",
              "                    ░ └───┘┌─┴─┐  │    │  └───┘┌─┴─┐  │    │  ├───┤  │  ├───┤»\n",
              "   em_1: ───────────░──────┤ X ├──┼────┼───────┤ X ├──┼────┼──┤ X ├──■──┤ X ├»\n",
              "                    ░      └───┘┌─┴─┐  │       └───┘┌─┴─┐  │  └───┘  │  └───┘»\n",
              "   em_2: ───────────░───────────┤ X ├──┼────────────┤ X ├──┼─────────■───────»\n",
              "                    ░           └───┘┌─┴─┐          └───┘┌─┴─┐┌───┐  │  ┌───┐»\n",
              "   em_3: ───────────░────────────────┤ X ├───────────────┤ X ├┤ X ├──■──┤ X ├»\n",
              "         ┌───┐┌───┐ ░                └───┘               └───┘└───┘┌─┴─┐└───┘»\n",
              "    out: ┤ X ├┤ H ├─░──────────────────────────────────────────────┤ X ├─────»\n",
              "         └───┘└───┘ ░                                              └───┘     »\n",
              "cbits: 4/════════════════════════════════════════════════════════════════════»\n",
              "                                                                             »\n",
              "«                                                  ░ ┌───────┐\n",
              "«    k_0: ───────────────────────────■─────────────░─┤0      ├\n",
              "«                                    │             ░ │       │\n",
              "«    k_1: ───────────────────────────┼────■────────░─┤1      ├\n",
              "«                                    │    │        ░ │  Ampl │\n",
              "«    k_2: ─────────────────■─────────┼────┼────────░─┤2      ├\n",
              "«                          │         │    │        ░ │       │\n",
              "«    k_3: ─────────────────┼─────────┼────┼────■───░─┤3      ├\n",
              "«                          │         │    │    │   ░ └───────┘\n",
              "«    m_0: ───────■─────────┼─────────┼────┼────┼───░──────────\n",
              "«                │         │         │    │    │   ░          \n",
              "«    m_1: ───────┼────■────┼─────────┼────┼────┼───░──────────\n",
              "«                │    │    │         │    │    │   ░          \n",
              "«    m_2: ──■────┼────┼────┼─────────┼────┼────┼───░──────────\n",
              "«           │    │    │    │         │    │    │   ░          \n",
              "«    m_3: ──┼────┼────┼────┼────■────┼────┼────┼───░──────────\n",
              "«           │  ┌─┴─┐  │    │    │  ┌─┴─┐  │    │   ░          \n",
              "«   em_0: ──┼──┤ X ├──┼────┼────┼──┤ X ├──┼────┼───░──────────\n",
              "«           │  └───┘┌─┴─┐  │    │  └───┘┌─┴─┐  │   ░          \n",
              "«   em_1: ──┼───────┤ X ├──┼────┼───────┤ X ├──┼───░──────────\n",
              "«         ┌─┴─┐     └───┘┌─┴─┐  │       └───┘  │   ░          \n",
              "«   em_2: ┤ X ├──────────┤ X ├──┼──────────────┼───░──────────\n",
              "«         └───┘          └───┘┌─┴─┐          ┌─┴─┐ ░          \n",
              "«   em_3: ────────────────────┤ X ├──────────┤ X ├─░──────────\n",
              "«                             └───┘          └───┘ ░          \n",
              "«    out: ─────────────────────────────────────────░──────────\n",
              "«                                                  ░          \n",
              "«cbits: 4/════════════════════════════════════════════════════\n",
              "«                                                             </pre>"
            ]
          },
          "metadata": {},
          "execution_count": 13
        }
      ]
    },
    {
      "cell_type": "markdown",
      "source": [
        "To get an answer in the search problem we need approximately $\\frac{\\pi}{4} \\sqrt\\frac{N}{M}$ Grover iterations, where $N$ - number of elements in the search space, $N = 2^n$ (in our case $n=4$, therefore $N=16$), $M$ - number of solutions (1 - the required key). \\\n",
        "Then 3 repetitions are needed to solve our problem."
      ],
      "metadata": {
        "id": "L7u8BiEzP6Uu"
      }
    },
    {
      "cell_type": "code",
      "source": [
        "# 2 more left\n",
        "for i in range(2):\n",
        "    oracle(qc, key_qubits, message_qubits, e_message_qubits, output_qubit)\n",
        "    qc.append(diffuser(4), key_qubits)\n",
        "\n",
        "# let's measure\n",
        "qc.measure(key_qubits, cbits)"
      ],
      "metadata": {
        "id": "97EKiH3bQ35P",
        "colab": {
          "base_uri": "https://localhost:8080/"
        },
        "outputId": "8987be7a-bffd-4746-a04f-f8b4be96873c"
      },
      "execution_count": 14,
      "outputs": [
        {
          "output_type": "execute_result",
          "data": {
            "text/plain": [
              "<qiskit.circuit.instructionset.InstructionSet at 0x7ec1f79ad900>"
            ]
          },
          "metadata": {},
          "execution_count": 14
        }
      ]
    },
    {
      "cell_type": "markdown",
      "source": [
        "Finally we get the result (in qiskit the result is read from right to left)"
      ],
      "metadata": {
        "id": "PDOZ2FVosV_S"
      }
    },
    {
      "cell_type": "code",
      "source": [
        "from qiskit import Aer, transpile\n",
        "\n",
        "from qiskit.visualization import plot_histogram\n",
        "\n",
        "qasm_sim = Aer.get_backend('qasm_simulator')\n",
        "transpiled_qc = transpile(qc, qasm_sim)\n",
        "result = qasm_sim.run(transpiled_qc).result()\n",
        "plot_histogram(result.get_counts())"
      ],
      "metadata": {
        "colab": {
          "base_uri": "https://localhost:8080/",
          "height": 484
        },
        "id": "Pxfn8aiNsSRH",
        "outputId": "b66d7892-d7f4-4a37-888f-5181a95e308b"
      },
      "execution_count": 15,
      "outputs": [
        {
          "output_type": "execute_result",
          "data": {
            "text/plain": [
              "<Figure size 700x500 with 1 Axes>"
            ],
            "image/png": "[encoded data removed]"
          },
          "metadata": {},
          "execution_count": 15
        }
      ]
    },
    {
      "cell_type": "markdown",
      "source": [
        "Сравним его с настоящим"
      ],
      "metadata": {
        "id": "o1WLgIVBt9fY"
      }
    },
    {
      "cell_type": "code",
      "source": [
        "counts = result.get_counts()\n",
        "counts"
      ],
      "metadata": {
        "colab": {
          "base_uri": "https://localhost:8080/"
        },
        "id": "ud0jQ0TDuDH2",
        "outputId": "7a63008c-add7-4511-a34a-2664e276aa41"
      },
      "execution_count": 16,
      "outputs": [
        {
          "output_type": "execute_result",
          "data": {
            "text/plain": [
              "{'0000': 1,\n",
              " '1100': 991,\n",
              " '1110': 5,\n",
              " '1001': 2,\n",
              " '0101': 2,\n",
              " '0010': 3,\n",
              " '1010': 3,\n",
              " '1011': 2,\n",
              " '0111': 5,\n",
              " '0011': 1,\n",
              " '1111': 5,\n",
              " '0001': 1,\n",
              " '1101': 1,\n",
              " '1000': 1,\n",
              " '0110': 1}"
            ]
          },
          "metadata": {},
          "execution_count": 16
        }
      ]
    },
    {
      "cell_type": "code",
      "source": [
        "answer = (counts.most_frequent())[::-1] # to read from left to right\n",
        "if (answer == \"\".join(map(str, key))):\n",
        "    print(\"The secret key is calculated correctly and is equals:\", answer)\n",
        "else:\n",
        "    print(\"The secret key was calculated incorrectly\")"
      ],
      "metadata": {
        "colab": {
          "base_uri": "https://localhost:8080/"
        },
        "id": "01ccjNyUuUGN",
        "outputId": "1ca9d0fe-8a56-4782-cbf6-1082a0671abb"
      },
      "execution_count": 17,
      "outputs": [
        {
          "output_type": "stream",
          "name": "stdout",
          "text": [
            "The secret key is calculated correctly and is equals: 0011\n"
          ]
        }
      ]
    }
  ]
}